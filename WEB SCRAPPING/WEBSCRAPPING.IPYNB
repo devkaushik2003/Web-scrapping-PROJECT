{
 "cells": [
  {
   "cell_type": "code",
   "execution_count": 1,
   "metadata": {},
   "outputs": [],
   "source": [
    "#LIBRARY THAT ARE IMPORTED\n",
    "import requests\n",
    "from bs4 import BeautifulSoup as bs\n",
    "from urllib.request import urlopen\n",
    "import logging"
   ]
  },
  {
   "cell_type": "code",
   "execution_count": 2,
   "metadata": {},
   "outputs": [],
   "source": [
    "flipcart_url = \"https://www.flipkart.com/search?q=\" + \"bread\""
   ]
  },
  {
   "cell_type": "code",
   "execution_count": 3,
   "metadata": {},
   "outputs": [],
   "source": [
    "url_client = urlopen(flipcart_url) # url open helps the url to open itself"
   ]
  },
  {
   "cell_type": "code",
   "execution_count": 4,
   "metadata": {},
   "outputs": [],
   "source": [
    "flipkart_page = url_client.read() # its shows us the page source basically all html and css but its now in human readable format"
   ]
  },
  {
   "cell_type": "code",
   "execution_count": 5,
   "metadata": {},
   "outputs": [],
   "source": [
    "flipkart_html = bs(flipkart_page , 'html.parser') # this bs function beautify the code so that i becomes readbale to some sort\n",
    "# we have to tell which parser should it use so flippkart page is basically a html page so we have used html parser"
   ]
  },
  {
   "attachments": {},
   "cell_type": "markdown",
   "metadata": {},
   "source": [
    "the link below we got from inspect and it takes us to the product individual page   \n",
    "using inspect we go to the particular div tag and copied the link "
   ]
  },
  {
   "cell_type": "code",
   "execution_count": 6,
   "metadata": {},
   "outputs": [
    {
     "data": {
      "text/plain": [
       "'https://www.flipkart.com/apple-iphone-12-pro-graphite-512-gb/p/itmdf0ffb4f2150f?pid=MOBFWBYZ4ZZ5VUQD&lid=LSTMOBFWBYZ4ZZ5VUQDQDDDI0&marketplace=FLIPKART&q=iphone12pro&store=tyy%2F4io&srno=s_1_1&otracker=search&otracker1=search&fm=Search&iid=69fe2034-4df3-4fd3-b874-677b3e10f95a.MOBFWBYZ4ZZ5VUQD.SEARCH&ppt=sp&ppn=sp&ssid=q1ey7oo6ao0000001678955471781&qH=712933e6bd68e7b9'"
      ]
     },
     "execution_count": 6,
     "metadata": {},
     "output_type": "execute_result"
    }
   ],
   "source": [
    "\"https://www.flipkart.com/\" + \"apple-iphone-12-pro-graphite-512-gb/p/itmdf0ffb4f2150f?pid=MOBFWBYZ4ZZ5VUQD&lid=LSTMOBFWBYZ4ZZ5VUQDQDDDI0&marketplace=FLIPKART&q=iphone12pro&store=tyy%2F4io&srno=s_1_1&otracker=search&otracker1=search&fm=Search&iid=69fe2034-4df3-4fd3-b874-677b3e10f95a.MOBFWBYZ4ZZ5VUQD.SEARCH&ppt=sp&ppn=sp&ssid=q1ey7oo6ao0000001678955471781&qH=712933e6bd68e7b9\""
   ]
  },
  {
   "cell_type": "code",
   "execution_count": 7,
   "metadata": {},
   "outputs": [],
   "source": [
    "bigbox = flipkart_html.findAll(\"div\", {\"class\":\"_1AtVbE col-12-12\"})\n",
    "# here we are tryig to find the href link that we get of inspect by using find dunction and here we have given\n",
    "#that inside div tag find all with class name _1AtVbE col-12-12"
   ]
  },
  {
   "cell_type": "code",
   "execution_count": 8,
   "metadata": {},
   "outputs": [
    {
     "data": {
      "text/plain": [
       "15"
      ]
     },
     "execution_count": 8,
     "metadata": {},
     "output_type": "execute_result"
    }
   ],
   "source": [
    "# del bigbox[0:2] # first two boxs doesnt have a tag so we delete them\n",
    "len(bigbox)\n"
   ]
  },
  {
   "cell_type": "code",
   "execution_count": 9,
   "metadata": {},
   "outputs": [],
   "source": [
    "product_link = \"https://www.flipkart.com\" + bigbox[4].div.div.div.a['href']\n",
    "# now here what we have done is we just went inside the div tag which contained another div tag until we find the a tag which has \n",
    "# link in it and after that we used slicing to find the link"
   ]
  },
  {
   "cell_type": "code",
   "execution_count": 10,
   "metadata": {},
   "outputs": [],
   "source": [
    "product_req = requests.get(product_link) #this will get the the html data from the web page"
   ]
  },
  {
   "cell_type": "code",
   "execution_count": 11,
   "metadata": {},
   "outputs": [
    {
     "data": {
      "text/plain": [
       "'https://www.flipkart.com/noise-colorfit-icon-2-1-8-display-bluetooth-calling-ai-voice-assistance-smartwatch/p/itm339ed82cec89e?pid=SMWGEH7V3NRGVPQ9&lid=LSTSMWGEH7V3NRGVPQ9LIOCW6&marketplace=FLIPKART&q=bread&store=search.flipkart.com&srno=s_1_13&otracker=search&fm=organic&iid=d8c8bb74-f522-422c-90a3-a558f6c7aee3.SMWGEH7V3NRGVPQ9.SEARCH&ppt=None&ppn=None&ssid=alco1hhlnk0000001679031342271&qH=dba7b12a19fe9d49'"
      ]
     },
     "execution_count": 11,
     "metadata": {},
     "output_type": "execute_result"
    }
   ],
   "source": [
    "product_link"
   ]
  },
  {
   "cell_type": "code",
   "execution_count": 12,
   "metadata": {},
   "outputs": [],
   "source": [
    "product_html = bs(product_req.text,'html.parser') # now we have beautify the page to which the link took us"
   ]
  },
  {
   "cell_type": "code",
   "execution_count": 13,
   "metadata": {},
   "outputs": [],
   "source": [
    "comment_box = product_html.findAll(\"div\",{\"class\":'_16PBlm'})"
   ]
  },
  {
   "cell_type": "code",
   "execution_count": 14,
   "metadata": {},
   "outputs": [
    {
     "data": {
      "text/plain": [
       "11"
      ]
     },
     "execution_count": 14,
     "metadata": {},
     "output_type": "execute_result"
    }
   ],
   "source": [
    "len(comment_box)"
   ]
  },
  {
   "cell_type": "code",
   "execution_count": 15,
   "metadata": {},
   "outputs": [
    {
     "name": "stdout",
     "output_type": "stream",
     "text": [
      "Hlo\n",
      "Raghuvendra  Singh\n",
      "Boya Narasimha\n",
      "Leon Moncy\n",
      "shrenik Mohanlal shah\n",
      "Sourav Mitra\n",
      "Kanchan kumar\n",
      "Aman kant  Verma\n",
      "Flipkart Customer\n",
      "ARPIT AGRAWAL\n"
     ]
    },
    {
     "ename": "AttributeError",
     "evalue": "'NoneType' object has no attribute 'div'",
     "output_type": "error",
     "traceback": [
      "\u001b[1;31m---------------------------------------------------------------------------\u001b[0m",
      "\u001b[1;31mAttributeError\u001b[0m                            Traceback (most recent call last)",
      "\u001b[1;32mc:\\Users\\kaush\\Desktop\\data science\\python projects\\WEB SCRAPPING\\WEBSCRAPPING.IPYNB Cell 16\u001b[0m in \u001b[0;36m<cell line: 2>\u001b[1;34m()\u001b[0m\n\u001b[0;32m      <a href='vscode-notebook-cell:/c%3A/Users/kaush/Desktop/data%20science/python%20projects/WEB%20SCRAPPING/WEBSCRAPPING.IPYNB#X21sZmlsZQ%3D%3D?line=0'>1</a>\u001b[0m \u001b[39m#this will help us to find the namee of the person who commented on the product\u001b[39;00m\n\u001b[0;32m      <a href='vscode-notebook-cell:/c%3A/Users/kaush/Desktop/data%20science/python%20projects/WEB%20SCRAPPING/WEBSCRAPPING.IPYNB#X21sZmlsZQ%3D%3D?line=1'>2</a>\u001b[0m \u001b[39mfor\u001b[39;00m i \u001b[39min\u001b[39;00m comment_box:\n\u001b[1;32m----> <a href='vscode-notebook-cell:/c%3A/Users/kaush/Desktop/data%20science/python%20projects/WEB%20SCRAPPING/WEBSCRAPPING.IPYNB#X21sZmlsZQ%3D%3D?line=2'>3</a>\u001b[0m     \u001b[39mprint\u001b[39m(i\u001b[39m.\u001b[39;49mdiv\u001b[39m.\u001b[39;49mdiv\u001b[39m.\u001b[39mfindAll(\u001b[39m'\u001b[39m\u001b[39mp\u001b[39m\u001b[39m'\u001b[39m,{\u001b[39m'\u001b[39m\u001b[39mclass\u001b[39m\u001b[39m'\u001b[39m:\u001b[39m'\u001b[39m\u001b[39m_2sc7ZR _2V5EHH\u001b[39m\u001b[39m'\u001b[39m})[\u001b[39m0\u001b[39m]\u001b[39m.\u001b[39mtext)\n",
      "\u001b[1;31mAttributeError\u001b[0m: 'NoneType' object has no attribute 'div'"
     ]
    }
   ],
   "source": [
    "#this will help us to find the namee of the person who commented on the product\n",
    "for i in comment_box:\n",
    "    print(i.div.div.findAll('p',{'class':'_2sc7ZR _2V5EHH'})[0].text)"
   ]
  },
  {
   "cell_type": "code",
   "execution_count": null,
   "metadata": {},
   "outputs": [
    {
     "name": "stdout",
     "output_type": "stream",
     "text": [
      "5\n",
      "5\n",
      "5\n",
      "5\n",
      "5\n",
      "4\n",
      "4\n",
      "5\n",
      "5\n",
      "5\n"
     ]
    },
    {
     "ename": "AttributeError",
     "evalue": "'NoneType' object has no attribute 'div'",
     "output_type": "error",
     "traceback": [
      "\u001b[1;31m---------------------------------------------------------------------------\u001b[0m",
      "\u001b[1;31mAttributeError\u001b[0m                            Traceback (most recent call last)",
      "\u001b[1;32mc:\\Users\\kaush\\Desktop\\data science\\python projects\\WEB SCRAPPING\\WEBSCRAPPING.IPYNB Cell 17\u001b[0m in \u001b[0;36m<cell line: 1>\u001b[1;34m()\u001b[0m\n\u001b[0;32m      <a href='vscode-notebook-cell:/c%3A/Users/kaush/Desktop/data%20science/python%20projects/WEB%20SCRAPPING/WEBSCRAPPING.IPYNB#X22sZmlsZQ%3D%3D?line=0'>1</a>\u001b[0m \u001b[39mfor\u001b[39;00m i \u001b[39min\u001b[39;00m comment_box:\n\u001b[1;32m----> <a href='vscode-notebook-cell:/c%3A/Users/kaush/Desktop/data%20science/python%20projects/WEB%20SCRAPPING/WEBSCRAPPING.IPYNB#X22sZmlsZQ%3D%3D?line=1'>2</a>\u001b[0m     \u001b[39mprint\u001b[39m(i\u001b[39m.\u001b[39;49mdiv\u001b[39m.\u001b[39;49mdiv\u001b[39m.\u001b[39mdiv\u001b[39m.\u001b[39mfindAll(\u001b[39m'\u001b[39m\u001b[39mdiv\u001b[39m\u001b[39m'\u001b[39m,{\u001b[39m'\u001b[39m\u001b[39mclass\u001b[39m\u001b[39m'\u001b[39m:\u001b[39m'\u001b[39m\u001b[39m_3LWZlK _1BLPMq\u001b[39m\u001b[39m'\u001b[39m})[\u001b[39m0\u001b[39m]\u001b[39m.\u001b[39mtext)\n",
      "\u001b[1;31mAttributeError\u001b[0m: 'NoneType' object has no attribute 'div'"
     ]
    }
   ],
   "source": [
    "for i in comment_box:\n",
    "    print(i.div.div.div.findAll('div',{'class':'_3LWZlK _1BLPMq'})[0].text)"
   ]
  },
  {
   "cell_type": "code",
   "execution_count": null,
   "metadata": {},
   "outputs": [
    {
     "name": "stdout",
     "output_type": "stream",
     "text": [
      "Fabulous!\n",
      "Excellent\n",
      "Simply awesome\n",
      "Excellent\n",
      "Brilliant\n",
      "Delightful\n",
      "Good quality product\n",
      "Highly recommended\n",
      "Worth every penny\n",
      "Fabulous!\n"
     ]
    },
    {
     "ename": "AttributeError",
     "evalue": "'NoneType' object has no attribute 'div'",
     "output_type": "error",
     "traceback": [
      "\u001b[1;31m---------------------------------------------------------------------------\u001b[0m",
      "\u001b[1;31mAttributeError\u001b[0m                            Traceback (most recent call last)",
      "\u001b[1;32mc:\\Users\\kaush\\Desktop\\data science\\python projects\\WEB SCRAPPING\\WEBSCRAPPING.IPYNB Cell 18\u001b[0m in \u001b[0;36m<cell line: 1>\u001b[1;34m()\u001b[0m\n\u001b[0;32m      <a href='vscode-notebook-cell:/c%3A/Users/kaush/Desktop/data%20science/python%20projects/WEB%20SCRAPPING/WEBSCRAPPING.IPYNB#X23sZmlsZQ%3D%3D?line=0'>1</a>\u001b[0m \u001b[39mfor\u001b[39;00m i \u001b[39min\u001b[39;00m comment_box:\n\u001b[1;32m----> <a href='vscode-notebook-cell:/c%3A/Users/kaush/Desktop/data%20science/python%20projects/WEB%20SCRAPPING/WEBSCRAPPING.IPYNB#X23sZmlsZQ%3D%3D?line=1'>2</a>\u001b[0m     \u001b[39mprint\u001b[39m(i\u001b[39m.\u001b[39;49mdiv\u001b[39m.\u001b[39;49mdiv\u001b[39m.\u001b[39mdiv\u001b[39m.\u001b[39mp\u001b[39m.\u001b[39mtext)\n",
      "\u001b[1;31mAttributeError\u001b[0m: 'NoneType' object has no attribute 'div'"
     ]
    }
   ],
   "source": [
    "for i in comment_box:\n",
    "    print(i.div.div.div.p.text)"
   ]
  },
  {
   "cell_type": "code",
   "execution_count": null,
   "metadata": {},
   "outputs": [
    {
     "name": "stdout",
     "output_type": "stream",
     "text": [
      "Wow Nyc product Noise One of the best product battery backup Superb and looks Amazing Wonderful 👍 FlipkartREAD MORE\n",
      "Superb Watch Under This price Range.......Value for Money..... having nice or bright Display in outdoors..... Like this ProductREAD MORE\n",
      "Nice one and good one.... Worth it it's looks nice compare to othersREAD MORE\n",
      "Pros: 1.features are awesome.           2.game is smooth and is interesting           3. I checked calling function and is clear      and loud same as that of speaker of mobiles.           4.connectivity is fast.           5. I got every notification fastly. I wondered                How some notification came on watch before it displayed on mobile 😀😲            6.there are no laggy experience.            7.UI is pretty attractive.            8. Overall I like it.Cons:            ...READ MORE\n",
      "Nice quality better back-up is good 4 days in my use bulit of belt good quality, Value for moneyREAD MORE\n",
      "Nice n Stylish..Display --9Battery -- 8UI-- 9 Connectivity -- 9 Overall Very Good smart watch. I must Say This is value for money product.READ MORE\n",
      "VERY NICE 👍 WATCH I'M IMPRESSED 😊 GOOD SERVICE FLIPKART THANK YOU ❤️READ MORE\n",
      "Amazing  product.  Thus is so good.  Works so well and touch screen  so Smoot.  I think this watch on of the best.READ MORE\n",
      "I m fully fall in love with this product 😍 Value for money or more than that... It's calling feature is marvellous.. the watch theme has lots of variety... easy to use... Great product... It's far better than boat... AI is working extremely good...so smoothly it's working... I just love it... Every features is performed perfectly...💕💕READ MORE\n",
      "Superb smartwatch Inbuilt gamesAnd metalic build qualityAll sensors are work properly and accurate Value for money Feature packed watchREAD MORE\n"
     ]
    },
    {
     "ename": "AttributeError",
     "evalue": "'NoneType' object has no attribute 'div'",
     "output_type": "error",
     "traceback": [
      "\u001b[1;31m---------------------------------------------------------------------------\u001b[0m",
      "\u001b[1;31mAttributeError\u001b[0m                            Traceback (most recent call last)",
      "\u001b[1;32mc:\\Users\\kaush\\Desktop\\data science\\python projects\\WEB SCRAPPING\\WEBSCRAPPING.IPYNB Cell 19\u001b[0m in \u001b[0;36m<cell line: 1>\u001b[1;34m()\u001b[0m\n\u001b[0;32m      <a href='vscode-notebook-cell:/c%3A/Users/kaush/Desktop/data%20science/python%20projects/WEB%20SCRAPPING/WEBSCRAPPING.IPYNB#X24sZmlsZQ%3D%3D?line=0'>1</a>\u001b[0m \u001b[39mfor\u001b[39;00m i \u001b[39min\u001b[39;00m comment_box:\n\u001b[1;32m----> <a href='vscode-notebook-cell:/c%3A/Users/kaush/Desktop/data%20science/python%20projects/WEB%20SCRAPPING/WEBSCRAPPING.IPYNB#X24sZmlsZQ%3D%3D?line=1'>2</a>\u001b[0m     \u001b[39mprint\u001b[39m(i\u001b[39m.\u001b[39;49mdiv\u001b[39m.\u001b[39;49mdiv\u001b[39m.\u001b[39mfindAll(\u001b[39m'\u001b[39m\u001b[39mdiv\u001b[39m\u001b[39m'\u001b[39m,{\u001b[39m'\u001b[39m\u001b[39mclass\u001b[39m\u001b[39m'\u001b[39m:\u001b[39m'\u001b[39m\u001b[39mt-ZTKy\u001b[39m\u001b[39m'\u001b[39m})[\u001b[39m0\u001b[39m]\u001b[39m.\u001b[39mtext)\n",
      "\u001b[1;31mAttributeError\u001b[0m: 'NoneType' object has no attribute 'div'"
     ]
    }
   ],
   "source": [
    "for i in comment_box:\n",
    "    print(i.div.div.findAll('div',{'class':'t-ZTKy'})[0].text)"
   ]
  },
  {
   "cell_type": "code",
   "execution_count": null,
   "metadata": {},
   "outputs": [],
   "source": []
  },
  {
   "cell_type": "code",
   "execution_count": null,
   "metadata": {},
   "outputs": [],
   "source": []
  },
  {
   "cell_type": "code",
   "execution_count": null,
   "metadata": {},
   "outputs": [
    {
     "ename": "TypeError",
     "evalue": "'NoneType' object is not subscriptable",
     "output_type": "error",
     "traceback": [
      "\u001b[1;31m---------------------------------------------------------------------------\u001b[0m",
      "\u001b[1;31mTypeError\u001b[0m                                 Traceback (most recent call last)",
      "\u001b[1;32mc:\\Users\\kaush\\Desktop\\data science\\python projects\\WEB SCRAPPING\\WEBSCRAPPING.IPYNB Cell 22\u001b[0m in \u001b[0;36m<cell line: 1>\u001b[1;34m()\u001b[0m\n\u001b[0;32m      <a href='vscode-notebook-cell:/c%3A/Users/kaush/Desktop/data%20science/python%20projects/WEB%20SCRAPPING/WEBSCRAPPING.IPYNB#X30sZmlsZQ%3D%3D?line=0'>1</a>\u001b[0m \u001b[39mfor\u001b[39;00m i \u001b[39min\u001b[39;00m bigbox:\n\u001b[1;32m----> <a href='vscode-notebook-cell:/c%3A/Users/kaush/Desktop/data%20science/python%20projects/WEB%20SCRAPPING/WEBSCRAPPING.IPYNB#X30sZmlsZQ%3D%3D?line=1'>2</a>\u001b[0m     \u001b[39mprint\u001b[39m(\u001b[39m\"\u001b[39m\u001b[39mhttps://www.flipkart.com\u001b[39m\u001b[39m\"\u001b[39m \u001b[39m+\u001b[39m i\u001b[39m.\u001b[39;49mdiv\u001b[39m.\u001b[39;49mdiv\u001b[39m.\u001b[39;49mdiv\u001b[39m.\u001b[39;49ma[\u001b[39m'\u001b[39;49m\u001b[39mhref\u001b[39;49m\u001b[39m'\u001b[39;49m])\n",
      "\u001b[1;31mTypeError\u001b[0m: 'NoneType' object is not subscriptable"
     ]
    }
   ],
   "source": [
    "for i in bigbox:\n",
    "    print(\"https://www.flipkart.com\" + i.div.div.div.a['href'])"
   ]
  }
 ],
 "metadata": {
  "kernelspec": {
   "display_name": "Python 3",
   "language": "python",
   "name": "python3"
  },
  "language_info": {
   "codemirror_mode": {
    "name": "ipython",
    "version": 3
   },
   "file_extension": ".py",
   "mimetype": "text/x-python",
   "name": "python",
   "nbconvert_exporter": "python",
   "pygments_lexer": "ipython3",
   "version": "3.10.0"
  },
  "orig_nbformat": 4
 },
 "nbformat": 4,
 "nbformat_minor": 2
}
